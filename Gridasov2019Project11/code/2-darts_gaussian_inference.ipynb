{
 "cells": [
  {
   "cell_type": "code",
   "execution_count": 52,
   "metadata": {},
   "outputs": [],
   "source": [
    "import torch\n",
    "import torch.nn.functional as F\n",
    "import numpy as np\n",
    "from sklearn.model_selection import train_test_split\n",
    "from scipy import stats as sps\n",
    "from matplotlib import pyplot as plt\n",
    "from tqdm import tqdm_notebook as tqdm\n",
    "\n",
    "%matplotlib inline\n",
    "%config InlineBackend.figure_format = 'retina'"
   ]
  },
  {
   "cell_type": "markdown",
   "metadata": {},
   "source": [
    "### Generate data"
   ]
  },
  {
   "cell_type": "markdown",
   "metadata": {},
   "source": [
    "* Относительно предыдущей тетрадки добавим softmax на параметры alpha. И Variational inference добавим."
   ]
  },
  {
   "cell_type": "code",
   "execution_count": 25,
   "metadata": {},
   "outputs": [],
   "source": [
    "def gen_first(alpha, w, X, noise_sigma=0):\n",
    "    \"\"\"alpha, w, size - tuples with 2 elements\n",
    "    x = alpha[0] * sin(w[0] * x) + alpha[1] * cos(w[1] * x) + N(0, noise_sigma^2), \n",
    "    X - list with x_train, x_val, x_test...\"\"\"\n",
    "    Y = []\n",
    "    assert alpha[0] + alpha[1] == 1\n",
    "    for x in X:\n",
    "        x = np.array(x)\n",
    "        y = alpha[0] * np.sin(w[0] * x) + alpha[1] * np.cos(w[1] * x)\n",
    "        y += np.random.randn(x.shape[0]) * noise_sigma\n",
    "        Y.append(y)\n",
    "    return Y"
   ]
  },
  {
   "cell_type": "code",
   "execution_count": 133,
   "metadata": {},
   "outputs": [],
   "source": [
    "x_max = 2\n",
    "X = sps.uniform(loc=0, scale=x_max).rvs(size=1000)\n",
    "X_train, X_test = train_test_split(X, test_size=0.2)\n",
    "X_train, X_val = train_test_split(X_train, test_size=0.3)"
   ]
  },
  {
   "cell_type": "code",
   "execution_count": 134,
   "metadata": {},
   "outputs": [],
   "source": [
    "alpha = [0.2, 0.8]\n",
    "w = [2, 3]\n",
    "y_train, y_val, y_test = gen_first(alpha, w, [X_train, X_val, X_test], noise_sigma=0.01)"
   ]
  },
  {
   "cell_type": "code",
   "execution_count": 135,
   "metadata": {},
   "outputs": [
    {
     "name": "stdout",
     "output_type": "stream",
     "text": [
      "alpha true = [0.2, 0.8]\n",
      "w true = [2, 3]\n"
     ]
    }
   ],
   "source": [
    "print(f'alpha true = {alpha}')\n",
    "print(f'w true = {w}')"
   ]
  },
  {
   "cell_type": "markdown",
   "metadata": {},
   "source": [
    "### Model"
   ]
  },
  {
   "cell_type": "code",
   "execution_count": 136,
   "metadata": {},
   "outputs": [],
   "source": [
    "def true_func(alpha, w, x):\n",
    "    return alpha[0] * np.sin(w[0] * x) + alpha[1] * np.cos(w[1] * x)"
   ]
  },
  {
   "cell_type": "code",
   "execution_count": 137,
   "metadata": {},
   "outputs": [],
   "source": [
    "class ModelFirst(torch.nn.Module):\n",
    "    def __init__(self):\n",
    "        super(ModelFirst, self).__init__()\n",
    "        self.alpha = torch.tensor([1, 1], dtype=torch.float64, requires_grad=True)\n",
    "        self.w = torch.tensor([1, 1], dtype=torch.float64, requires_grad=True)\n",
    "        \n",
    "    def forward(self, x):\n",
    "        mixed_op = torch.nn.Softmax(dim=0)(self.alpha)\n",
    "        return mixed_op[0] * torch.sin(self.w[0] * x) + mixed_op[1] * torch.cos(self.w[1] * x)"
   ]
  },
  {
   "cell_type": "code",
   "execution_count": 138,
   "metadata": {},
   "outputs": [],
   "source": [
    "def compute_loss(model, x, y):\n",
    "    \"\"\"x, y - numpy arrays\"\"\"\n",
    "    x = torch.DoubleTensor(x)\n",
    "    y = torch.DoubleTensor(y)\n",
    "    y_pred = model(x)\n",
    "    return F.mse_loss(y_pred, y)# + 0.001 * (model.alpha ** 2).sum() + 0.001 * (model.w ** 2).sum()"
   ]
  },
  {
   "cell_type": "markdown",
   "metadata": {},
   "source": [
    "## Darts"
   ]
  },
  {
   "cell_type": "code",
   "execution_count": 139,
   "metadata": {},
   "outputs": [],
   "source": [
    "def find_opt(model, xi=0.1, num_epochs=100):\n",
    "    train_loss, val_loss, test_loss, params = [], [], [], []\n",
    "    \n",
    "    opt_w = torch.optim.SGD([model.w], lr=xi)\n",
    "    opt_alpha = torch.optim.SGD([model.alpha], lr=0.1)\n",
    "\n",
    "    for epoch in range(num_epochs):\n",
    "        model.train(True) # устанавливаем поведение dropout / batch_norm  в обучение\n",
    "\n",
    "        loss = compute_loss(model, X_train, y_train) # first level\n",
    "        loss.backward()\n",
    "        w_grad = model.w.grad.clone().detach()\n",
    "        opt_w.step()\n",
    "        opt_w.zero_grad()\n",
    "        opt_alpha.zero_grad()\n",
    "        train_loss.append(loss.data.numpy())\n",
    "                \n",
    "        model.w.requires_grad_(False)\n",
    "        model.w -= w_grad * xi # virtual step\n",
    "                \n",
    "        loss = compute_loss(model, X_val, y_val) # second level\n",
    "        loss.backward()\n",
    "        opt_alpha.step()\n",
    "        opt_alpha.zero_grad()\n",
    "        opt_w.zero_grad()\n",
    "        val_loss.append(loss.data.numpy())\n",
    "        \n",
    "        model.w += w_grad * xi\n",
    "        model.w = model.w.requires_grad_(True)\n",
    "        params.append((model.alpha.clone().detach().numpy(), model.w.clone().detach().numpy()))\n",
    "                \n",
    "        loss = compute_loss(model, X_test, y_test)\n",
    "        test_loss.append(loss.data.numpy())\n",
    "    return train_loss, val_loss, test_loss, np.array(params)"
   ]
  },
  {
   "cell_type": "code",
   "execution_count": 140,
   "metadata": {},
   "outputs": [
    {
     "data": {
      "application/vnd.jupyter.widget-view+json": {
       "model_id": "3fe73adb61b943de8f9232695000670c",
       "version_major": 2,
       "version_minor": 0
      },
      "text/plain": [
       "HBox(children=(IntProgress(value=0, max=10), HTML(value='')))"
      ]
     },
     "metadata": {},
     "output_type": "display_data"
    },
    {
     "name": "stdout",
     "output_type": "stream",
     "text": [
      "\n",
      "best_loss = 0.0021669854113520698\n"
     ]
    }
   ],
   "source": [
    "best_loss = 100\n",
    "for xi in tqdm(np.linspace(0.01, 0.5, num=10)):\n",
    "    model = ModelFirst()\n",
    "    train_loss, val_loss, test_loss, params = find_opt(model, xi=xi, num_epochs=1001)\n",
    "    if train_loss[-1] < best_loss:\n",
    "        best_loss = train_loss[-1]\n",
    "        best_xi = xi\n",
    "        model_best = model\n",
    "print(f'best_loss = {best_loss}')"
   ]
  },
  {
   "cell_type": "code",
   "execution_count": 141,
   "metadata": {},
   "outputs": [
    {
     "data": {
      "image/png": "[encoded data removed]",
      "text/plain": [
       "<Figure size 432x288 with 1 Axes>"
      ]
     },
     "metadata": {
      "image/png": {
       "height": 250,
       "width": 382
      },
      "needs_background": "light"
     },
     "output_type": "display_data"
    }
   ],
   "source": [
    "plt.scatter(X_train, y_train, label='train data points')\n",
    "plt.scatter(np.linspace(0, x_max), [true_func(torch.nn.Softmax(dim=0)(model_best.alpha).detach().numpy(), \n",
    "                                          model_best.w.detach().numpy(), x)\n",
    "                                 for x in np.linspace(0, x_max)], label='predicted')\n",
    "plt.legend(prop={'size': 14})\n",
    "plt.show()"
   ]
  },
  {
   "cell_type": "markdown",
   "metadata": {},
   "source": [
    "Выводы:\n",
    "* Градиентный спуск не всесилен и возникают большие проблемы с застряванием в локальных минимумах, а не в глобальным при использовании функций активации с большим кол-вом экстремумов (например, sin, cos при условии что x принимает значения на большом промежутке > pi)"
   ]
  },
  {
   "cell_type": "code",
   "execution_count": 142,
   "metadata": {},
   "outputs": [
    {
     "data": {
      "text/plain": [
       "tensor([0.8063, 2.7916], dtype=torch.float64, requires_grad=True)"
      ]
     },
     "execution_count": 142,
     "metadata": {},
     "output_type": "execute_result"
    }
   ],
   "source": [
    "model_best.w"
   ]
  },
  {
   "cell_type": "code",
   "execution_count": 143,
   "metadata": {},
   "outputs": [
    {
     "data": {
      "text/plain": [
       "(tensor([0.3438, 1.6562], dtype=torch.float64, requires_grad=True),\n",
       " array([0.21207942, 0.78792058]))"
      ]
     },
     "execution_count": 143,
     "metadata": {},
     "output_type": "execute_result"
    }
   ],
   "source": [
    "model_best.alpha, torch.nn.Softmax(dim=0)(model_best.alpha).detach().numpy()"
   ]
  },
  {
   "cell_type": "code",
   "execution_count": 144,
   "metadata": {},
   "outputs": [
    {
     "data": {
      "text/plain": [
       "(array(0.00216699), 0.5)"
      ]
     },
     "execution_count": 144,
     "metadata": {},
     "output_type": "execute_result"
    }
   ],
   "source": [
    "best_loss, best_xi"
   ]
  },
  {
   "cell_type": "code",
   "execution_count": null,
   "metadata": {},
   "outputs": [],
   "source": []
  }
 ],
 "metadata": {
  "kernelspec": {
   "display_name": "Python 3",
   "language": "python",
   "name": "python3"
  },
  "language_info": {
   "codemirror_mode": {
    "name": "ipython",
    "version": 3
   },
   "file_extension": ".py",
   "mimetype": "text/x-python",
   "name": "python",
   "nbconvert_exporter": "python",
   "pygments_lexer": "ipython3",
   "version": "3.6.8"
  }
 },
 "nbformat": 4,
 "nbformat_minor": 2
}
